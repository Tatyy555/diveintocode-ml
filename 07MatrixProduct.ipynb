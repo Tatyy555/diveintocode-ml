{
 "cells": [
  {
   "cell_type": "code",
   "execution_count": 2,
   "metadata": {},
   "outputs": [
    {
     "data": {
      "text/plain": [
       "'\\n課題：行列積の実装\\n\\u3000\\u3000\\u3000以下の行列積を利用\\n   \\u3000 import numpy as np\\n      a_ndarray = np.array([[-1, 2, 3], [4, -5, 6], [7, 8, -9]])\\n      b_ndarray = np.array([[0, 2, 1], [0, 2, -8], [2, 9, -1]])\\n      \\n【問題1】行列積を手計算する\\nAとBの行列積を手計算で解いてください。\\n計算過程もマークダウンテキストを用いて説明してください。\\n'"
      ]
     },
     "execution_count": 2,
     "metadata": {},
     "output_type": "execute_result"
    }
   ],
   "source": [
    "\"\"\"\n",
    "課題：行列積の実装\n",
    "　　　以下の行列積を利用\n",
    "   　 import numpy as np\n",
    "      a_ndarray = np.array([[-1, 2, 3], [4, -5, 6], [7, 8, -9]])\n",
    "      b_ndarray = np.array([[0, 2, 1], [0, 2, -8], [2, 9, -1]])\n",
    "      \n",
    "【問題1】行列積を手計算する\n",
    "AとBの行列積を手計算で解いてください。\n",
    "計算過程もマークダウンテキストを用いて説明してください。\n",
    "\"\"\"\n",
    "\n"
   ]
  },
  {
   "cell_type": "markdown",
   "metadata": {},
   "source": [
    "与えられた式は以下の通り\n",
    "\n",
    "$$\n",
    "A=\\left[\n",
    "\\begin{matrix} -1 & 2 & 3 \\\\ 4 & -5 & 6 \\\\ 7 & 8 & -9 \\end{matrix}\n",
    "\\right], \n",
    "B=\\left[\n",
    "\\begin{matrix} 0 & 2 & 1 \\\\ 0 & 2 & -8 \\\\ 2 & 9 & -1 \\end{matrix}\n",
    "\\right]\n",
    "$$\n",
    "\n",
    "この行列積を手計算する\\\n",
    "行列積の求め方は行と列を掛け合わせていく\n",
    "\n",
    "$$\n",
    "A×B= \n",
    "\\left[\n",
    "\\begin{matrix} -1×0+2×0+3×2 & -1×2+2×2+3×9 & -1×1+2×-8+3×-1 \\\\ 4×0+-5×0+6×2 & 4×2+-5×2+6×9 & 4×1+-5×-8+6×-1 \\\\ 7×0+8×0+-9×2 & 7×2+8×2+-9×9 & 7×1+8×-8+-9×-1 \\end{matrix}\n",
    "\\right]\n",
    "$$\n",
    "\n",
    "すると\n",
    "\n",
    "$$\n",
    "= \n",
    "\\left[\n",
    "\\begin{matrix} 6 & 29 & -20 \\\\ 12 & 10 & 38 \\\\ -18 & -51 & -48 \\end{matrix}\n",
    "\\right]\n",
    "$$\n",
    "\n",
    "になる\n",
    "\n"
   ]
  },
  {
   "cell_type": "code",
   "execution_count": 3,
   "metadata": {},
   "outputs": [
    {
     "name": "stdout",
     "output_type": "stream",
     "text": [
      "[[  6  29 -20]\n",
      " [ 12  52  38]\n",
      " [-18 -51 -48]]\n"
     ]
    }
   ],
   "source": [
    "\"\"\"\n",
    "【問題2】NumPyの関数による計算\n",
    "この行列積はNumPyのnp.matmul()やnp.dot()、または@演算子を使うことで簡単に計算できます。\n",
    "これらを使い行列積を計算してください。\n",
    "\n",
    "\n",
    "\"\"\"\n",
    "import numpy as np\n",
    "a_ndarray = np.array([[-1, 2, 3], [4, -5, 6], [7, 8, -9]])\n",
    "b_ndarray = np.array([[0, 2, 1], [0, 2, -8], [2, 9, -1]])\n",
    "\n",
    "print(np.matmul(a_ndarray,b_ndarray))"
   ]
  },
  {
   "cell_type": "code",
   "execution_count": 11,
   "metadata": {},
   "outputs": [
    {
     "name": "stdout",
     "output_type": "stream",
     "text": [
      "[[0 0 0]\n",
      " [0 0 0]\n",
      " [0 0 0]]\n",
      "[[  6  29 -20]\n",
      " [ 12  52  38]\n",
      " [-18 -51 -48]]\n"
     ]
    }
   ],
   "source": [
    "\"\"\"\n",
    "【問題3】ある要素の計算を実装\n",
    "NumPyのnp.matmul()やnp.dot()、または@演算子を使わずに計算\n",
    "行列Aの(0,0)の要素 $a_{0, 0}$ と行列Bの(0,0)の要素 $b_{0, 0}$ を掛け合わせる\n",
    "行列Aの(0,1)の要素 $a_{0, 1}$ と行列Bの(1,0)の要素 $b_{1, 0}$ を掛け合わせる\n",
    "行列Aの(0,2)の要素 $a_{0, 2}$ と行列Bの(2,0)の要素 $b_{2, 0}$ を掛け合わせる\n",
    "それらの値をすべて足し合わせる\n",
    "\n",
    "\"\"\"\n",
    "\n",
    "#まず空の行列を作成する\n",
    "ab_ndarray = np.full((3,3),0)\n",
    "print(ab_ndarray)\n",
    "\n",
    "#それぞれの和を代入していく                      \n",
    "ab_ndarray[0][0] = a_ndarray[0][0]*b_ndarray[0][0]+a_ndarray[0][1]*b_ndarray[1][0]+a_ndarray[0][2]*b_ndarray[2][0]\n",
    "ab_ndarray[0][1] = a_ndarray[0][0]*b_ndarray[0][1]+a_ndarray[0][1]*b_ndarray[1][1]+a_ndarray[0][2]*b_ndarray[2][1]\n",
    "ab_ndarray[0][2] = a_ndarray[0][0]*b_ndarray[0][2]+a_ndarray[0][1]*b_ndarray[1][2]+a_ndarray[0][2]*b_ndarray[2][2]\n",
    "\n",
    "ab_ndarray[1][0] = a_ndarray[1][0]*b_ndarray[0][0]+a_ndarray[1][1]*b_ndarray[1][0]+a_ndarray[1][2]*b_ndarray[2][0]\n",
    "ab_ndarray[1][1] = a_ndarray[1][0]*b_ndarray[0][1]+a_ndarray[1][1]*b_ndarray[1][1]+a_ndarray[1][2]*b_ndarray[2][1]\n",
    "ab_ndarray[1][2] = a_ndarray[1][0]*b_ndarray[0][2]+a_ndarray[1][1]*b_ndarray[1][2]+a_ndarray[1][2]*b_ndarray[2][2]\n",
    "\n",
    "ab_ndarray[2][0] = a_ndarray[2][0]*b_ndarray[0][0]+a_ndarray[2][1]*b_ndarray[1][0]+a_ndarray[2][2]*b_ndarray[2][0]\n",
    "ab_ndarray[2][1] = a_ndarray[2][0]*b_ndarray[0][1]+a_ndarray[2][1]*b_ndarray[1][1]+a_ndarray[2][2]*b_ndarray[2][1]\n",
    "ab_ndarray[2][2] = a_ndarray[2][0]*b_ndarray[0][2]+a_ndarray[2][1]*b_ndarray[1][2]+a_ndarray[2][2]*b_ndarray[2][2]\n",
    "\n",
    "#計算結果の出力\n",
    "print(ab_ndarray)"
   ]
  },
  {
   "cell_type": "code",
   "execution_count": 168,
   "metadata": {},
   "outputs": [
    {
     "name": "stdout",
     "output_type": "stream",
     "text": [
      "[[ 28  32 -42]\n",
      " [ 26  31 -12]\n",
      " [-24 -18  54]]\n",
      "[[ 28  32 -42]\n",
      " [ 26  31 -12]\n",
      " [-24 -18  54]]\n"
     ]
    }
   ],
   "source": [
    "\"\"\"\n",
    "【問題4】行列積を行う関数の作成\n",
    "行列AとBを引数に受け取り、行列積を返す関数としてください。\n",
    "\"\"\"\n",
    "\n",
    "any_ndarray1 = np.array([[-1, 2, 3], [4, -5, 6], [7, 8, -9]])\n",
    "any_ndarray2 = np.array([[1, 2, 3], [4, 5, -6], [7, 8, -9]])\n",
    "print(np.matmul(any_ndarray1,any_ndarray2))\n",
    "\n",
    "def matrix_product(any_ndarray1= np.array([[-1, 2, 3], [4, -5, 6], [7, 8, -9]]), any_ndarray2= np.array([[1, 2, 3], [4, 5, -6], [7, 8, -9]])):\n",
    "    answer_ndarray = np.full((int(any_ndarray1.shape[0]),int(any_ndarray2.shape[1])),0)\n",
    "    \n",
    "    if(any_ndarray1.shape[1]==any_ndarray2.shape[0]):\n",
    "        for i in range(any_ndarray1.shape[0]):\n",
    "            for j in range(any_ndarray2.shape[1]):\n",
    "                for k in range(any_ndarray2.shape[0]):\n",
    "                    answer_ndarray[i][j] = answer_ndarray[i][j] + any_ndarray1[i][k] * any_ndarray2[k][j]\n",
    "        print(answer_ndarray)\n",
    "    else:\n",
    "        print(\"一つ目の行列の列数と二つ目の行列の行数が異なるので計算できません。\")\n",
    "        \n",
    "matrix_product()\n"
   ]
  },
  {
   "cell_type": "code",
   "execution_count": 165,
   "metadata": {},
   "outputs": [
    {
     "name": "stdout",
     "output_type": "stream",
     "text": [
      "一つ目の行列の列数と二つ目の行列の行数が異なるので計算できません。\n"
     ]
    },
    {
     "ename": "ValueError",
     "evalue": "matmul: Input operand 1 has a mismatch in its core dimension 0, with gufunc signature (n?,k),(k,m?)->(n?,m?) (size 2 is different from 3)",
     "output_type": "error",
     "traceback": [
      "\u001b[1;31m---------------------------------------------------------------------------\u001b[0m",
      "\u001b[1;31mValueError\u001b[0m                                Traceback (most recent call last)",
      "\u001b[1;32m<ipython-input-165-44d31866abbe>\u001b[0m in \u001b[0;36m<module>\u001b[1;34m\u001b[0m\n\u001b[0;32m      7\u001b[0m \u001b[1;33m\u001b[0m\u001b[0m\n\u001b[0;32m      8\u001b[0m \u001b[0mmatrix_product\u001b[0m\u001b[1;33m(\u001b[0m\u001b[0many_ndarray1\u001b[0m \u001b[1;33m=\u001b[0m \u001b[0md_ndarray\u001b[0m\u001b[1;33m,\u001b[0m \u001b[0many_ndarray2\u001b[0m \u001b[1;33m=\u001b[0m \u001b[0me_ndarray\u001b[0m\u001b[1;33m)\u001b[0m\u001b[1;33m\u001b[0m\u001b[1;33m\u001b[0m\u001b[0m\n\u001b[1;32m----> 9\u001b[1;33m \u001b[0mprint\u001b[0m\u001b[1;33m(\u001b[0m\u001b[0mnp\u001b[0m\u001b[1;33m.\u001b[0m\u001b[0mmatmul\u001b[0m\u001b[1;33m(\u001b[0m\u001b[0md_ndarray\u001b[0m\u001b[1;33m,\u001b[0m\u001b[0me_ndarray\u001b[0m\u001b[1;33m)\u001b[0m\u001b[1;33m)\u001b[0m\u001b[1;33m\u001b[0m\u001b[1;33m\u001b[0m\u001b[0m\n\u001b[0m",
      "\u001b[1;31mValueError\u001b[0m: matmul: Input operand 1 has a mismatch in its core dimension 0, with gufunc signature (n?,k),(k,m?)->(n?,m?) (size 2 is different from 3)"
     ]
    }
   ],
   "source": [
    "\"\"\"\n",
    "【問題5】行列積を行う関数の作成\n",
    "力される形に問題があることをprint()を使い表示するコードを書き加えてください。\n",
    "\"\"\"\n",
    "d_ndarray = np.array([[-1, 2, 3], [4, -5, 6]])\n",
    "e_ndarray = np.array([[-9, 8, 7], [6, -5, 4]])\n",
    "\n",
    "matrix_product(any_ndarray1 = d_ndarray, any_ndarray2 = e_ndarray)\n",
    "print(np.matmul(d_ndarray,e_ndarray))\n"
   ]
  },
  {
   "cell_type": "code",
   "execution_count": 166,
   "metadata": {},
   "outputs": [
    {
     "name": "stdout",
     "output_type": "stream",
     "text": [
      "[[ 46  -4]\n",
      " [-34  73]]\n",
      "[[ 46  -4]\n",
      " [-34  73]]\n"
     ]
    }
   ],
   "source": [
    "\"\"\"\n",
    "【問題6】転置\n",
    "片方の行列を転置することで、行列積が計算できるようになります。\n",
    "\"\"\"\n",
    "\n",
    "matrix_product(any_ndarray1 = d_ndarray, any_ndarray2 = np.transpose(e_ndarray))\n",
    "print(np.matmul(d_ndarray,np.transpose(e_ndarray)))"
   ]
  },
  {
   "cell_type": "code",
   "execution_count": null,
   "metadata": {},
   "outputs": [],
   "source": []
  }
 ],
 "metadata": {
  "kernelspec": {
   "display_name": "Python 3",
   "language": "python",
   "name": "python3"
  },
  "language_info": {
   "codemirror_mode": {
    "name": "ipython",
    "version": 3
   },
   "file_extension": ".py",
   "mimetype": "text/x-python",
   "name": "python",
   "nbconvert_exporter": "python",
   "pygments_lexer": "ipython3",
   "version": "3.7.6"
  }
 },
 "nbformat": 4,
 "nbformat_minor": 4
}
